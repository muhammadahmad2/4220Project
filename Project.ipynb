{
 "cells": [
  {
   "cell_type": "code",
   "execution_count": 1,
   "metadata": {},
   "outputs": [],
   "source": [
    "import os\n",
    "import cv2\n",
    "import sys\n",
    "import random\n",
    "import numpy as np\n"
   ]
  },
  {
   "cell_type": "code",
   "execution_count": 46,
   "metadata": {},
   "outputs": [],
   "source": [
    "class Eigenfaces(object):                                                       # *** COMMENTS ***\n",
    "    faces_count = 2\n",
    "\n",
    "    faces_dir = '.'                                                             # directory path to the AT&T faces\n",
    "\n",
    "    l = (400)                                      # training images count\n",
    "    m = 92                                                                      # number of columns of the image\n",
    "    n = 112                                                                     # number of rows of the image\n",
    "    mn = m * n                                                                  # length of the column vector\n",
    "    \n",
    "    def __init__(self, _energy = 0.85):\n",
    "        print('> Initializing started')\n",
    "\n",
    "        self.energy = _energy\n",
    "        self.training_ids = []                                                  # train image id's for every at&t face\n",
    "\n",
    "        L = np.empty(shape=(self.mn, self.l), dtype='float64')                  # each row of L represents one train image\n",
    "\n",
    "\n",
    "        test_images = []\n",
    "        labels = []\n",
    "\n",
    "        i = 0\n",
    "        a = 0            \n",
    "        for imgfolder in os.listdir('./Bioid/'):\n",
    "            for filename in os.listdir('./Bioid/' + imgfolder):\n",
    "                filename = './Bioid/' + imgfolder + '/'+ filename\n",
    "                if (filename.lower().endswith(('.png', '.jpg', '.jpeg','.pgm'))):\n",
    "                    img=cv2.imread(filename,0)\n",
    "\n",
    "                    img = cv2.resize(img, (92,112), interpolation = cv2.INTER_AREA)\n",
    "\n",
    "                    img_col = np.array(img, dtype='float64').flatten()              # flatten the 2d image into 1d\n",
    "\n",
    "                    L[:, i] = img_col[:]                                      # set the cur_img-th column to the current training image\n",
    "                    \n",
    "                    i += 1\n",
    "                    #L[:, i] = img_col[:]\n",
    "                    #i+=1\n",
    "\n",
    "                                           \n",
    "\n",
    "        self.mean_img_col = np.sum(L, axis=1) / self.l                          # get the mean of all images / over the rows of L\n",
    "\n",
    "        for j in range(0, self.l):                                             # subtract from all training images\n",
    "            L[:, j] -= self.mean_img_col[:]\n",
    "\n",
    "        C = np.matrix(L.transpose()) * np.matrix(L)                             # instead of computing the covariance matrix as\n",
    "        C /= self.l                                                             # L*L^T, we set C = L^T*L, and end up with way\n",
    "                                                                                # smaller and computentionally inexpensive one\n",
    "                                                                                # we also need to divide by the number of training\n",
    "                                                                                # images\n",
    "\n",
    "        self.evalues, self.evectors = np.linalg.eig(C)                          # eigenvectors/values of the covariance matrix\n",
    "        sort_indices = self.evalues.argsort()[::-1]                             # getting their correct order - decreasing\n",
    "        self.evalues = self.evalues[sort_indices]                               # puttin the evalues in that order\n",
    "        self.evectors = self.evectors[sort_indices]                             # same for the evectors\n",
    "\n",
    "        evalues_sum = sum(self.evalues[:])                                      # include only the first k evectors/values so\n",
    "        evalues_count = 0                                                       # that they include approx. 85% of the energy\n",
    "        evalues_energy = 0.0\n",
    "        for evalue in self.evalues:\n",
    "            evalues_count += 1\n",
    "            evalues_energy += evalue / evalues_sum\n",
    "\n",
    "            if evalues_energy >= self.energy:\n",
    "                break\n",
    "\n",
    "        self.evalues = self.evalues[0:evalues_count]                            # reduce the number of eigenvectors/values to consider\n",
    "        self.evectors = self.evectors[0:evalues_count]\n",
    "\n",
    "        self.evectors = self.evectors.transpose()                               # change eigenvectors from rows to columns\n",
    "        self.evectors = L * self.evectors                                       # left multiply to get the correct evectors\n",
    "        norms = np.linalg.norm(self.evectors, axis=0)                           # find the norm of each eigenvector\n",
    "        self.evectors = self.evectors / norms                                   # normalize all eigenvectors\n",
    "\n",
    "        self.W = self.evectors.transpose() * L                                  # computing the weights\n",
    "\n",
    "        print('> Initializing ended')\n",
    "\n",
    "        \n",
    "    def classify(self, img):\n",
    "        #img = cv2.imread(path_to_img, 0)\n",
    "\n",
    "        gray = cv2.cvtColor(img, cv2.COLOR_BGR2GRAY)\n",
    "        img = cv2.equalizeHist(gray)\n",
    "\n",
    "        \n",
    "        img = cv2.resize(img,(92, 112), interpolation = cv2.INTER_AREA)                                       # read as a grayscale image\n",
    "        img_col = np.array(img, dtype='float64').flatten()                      # flatten the image\n",
    "        img_col1=img_col\n",
    "        img_col -= self.mean_img_col                                            # subract the mean column\n",
    "        img_col2 = img_col\n",
    "        img_col = np.reshape(img_col, (self.mn, 1))                             # from row vector to col vector\n",
    "        img_col3 =img_col\n",
    "        \n",
    "        S = self.evectors.transpose() * img_col                                 # projecting the normalized probe onto the\n",
    "                                                                                # Eigenspace, to find out the weights\n",
    "        diff = self.W - S                                                       # finding the min ||W_j - S||\n",
    "\n",
    "        norms = np.linalg.norm(diff, axis=0)\n",
    "\n",
    "        closest_face_id = np.argmin(norms)                                     # the id [0..240) of the minerror face to the sample\n",
    "        return closest_face_id,norms"
   ]
  },
  {
   "cell_type": "code",
   "execution_count": 47,
   "metadata": {},
   "outputs": [],
   "source": [
    "def draw_rects(img, x1, y1, x2, y2, color):\n",
    "    cv2.rectangle(img, (x1, y1), (x2, y2), color, 2)"
   ]
  },
  {
   "cell_type": "code",
   "execution_count": 48,
   "metadata": {},
   "outputs": [
    {
     "name": "stdout",
     "output_type": "stream",
     "text": [
      "> Initializing started\n",
      "> Initializing ended\n"
     ]
    }
   ],
   "source": [
    "if __name__ == \"__main__\":\n",
    "    efaces = Eigenfaces()                                       # create the Eigenfaces object with the data dir"
   ]
  },
  {
   "cell_type": "code",
   "execution_count": 49,
   "metadata": {},
   "outputs": [
    {
     "name": "stdout",
     "output_type": "stream",
     "text": [
      "True\n",
      "331\n",
      "4369.821866264168\n"
     ]
    },
    {
     "data": {
      "image/png": "[encoded data removed]",
      "text/plain": [
       "<matplotlib.figure.Figure at 0x1f8081c7c88>"
      ]
     },
     "metadata": {},
     "output_type": "display_data"
    }
   ],
   "source": [
    "    import matplotlib.pyplot as plt\n",
    "        \n",
    "    \n",
    "    imgliv = cv2.imread('./ben2.jpg')\n",
    "    liv,norms = efaces.classify(imgliv)\n",
    "    print(liv<391)\n",
    "    print(liv)\n",
    "    print(norms[liv])\n",
    "    plt.plot(norms)\n",
    "    plt.xlim(liv-100,liv+100)\n",
    "    plt.show()\n",
    "    #cv2.imshow('facedetect', imgliv)\n",
    "    #cv2.waitKey(0)\n",
    "    #cv2.destroyAllWindows()\n"
   ]
  },
  {
   "cell_type": "code",
   "execution_count": null,
   "metadata": {},
   "outputs": [],
   "source": []
  },
  {
   "cell_type": "code",
   "execution_count": 70,
   "metadata": {},
   "outputs": [],
   "source": [
    "    cam = cv2.VideoCapture('./video.mpg')\n",
    "    while True:\n",
    "        \n",
    "        ret, img = cam.read()\n",
    "        import time\n",
    "        start = time.time()\n",
    "\n",
    "        #img = cv2.imread('./portrait.jpg')\n",
    "\n",
    "\n",
    "        height, width, channels = img.shape\n",
    "        \n",
    "        div = int(width/100)\n",
    "\n",
    "        vis = cv2.resize(img,(int(width/div), int(height/div)), interpolation = cv2.INTER_AREA)\n",
    "        height, width, channels = vis.shape\n",
    "\n",
    "        x = 92\n",
    "        y = 112\n",
    "\n",
    "        nom=[]\n",
    "        xy = []\n",
    "        for i in range(4):\n",
    "            w = 0\n",
    "            for a in range(width):\n",
    "                h = 0\n",
    "                if((w + x)>width):\n",
    "                    break\n",
    "                for b in range(height):\n",
    "                    if((h + y)>height):\n",
    "                        break\n",
    "                    temp = vis[h : h + y, w : w + x]\n",
    "                    liv,norms = efaces.classify(temp)\n",
    "                    nom.append(norms[liv])\n",
    "                    xy.append([h*div,y*div,w*div,x*div])\n",
    "                    h += 5\n",
    "\n",
    "                w += 5\n",
    "            x -= 20\n",
    "            y -= 24\n",
    "\n",
    "        done = time.time()\n",
    "        elapsed = done - start\n",
    "        #print(elapsed)\n",
    "        nom = np.array(nom)\n",
    "        low = (nom <4000).nonzero()\n",
    "\n",
    "        for l in low[0]:\n",
    "            h,y,w,x=xy[l]\n",
    "            draw_rects(img, w,h,w + x,h + y, (255,255,255))\n",
    "\n",
    "        cv2.imshow('facedetect', img)\n",
    "        #cv2.waitKey(0)\n",
    "        if 0xFF & cv2.waitKey(5) == 27:\n",
    "            break\n",
    "    cv2.destroyAllWindows()\n",
    "\n",
    "    #plt.plot(nom)\n",
    "    #plt.show()\n"
   ]
  },
  {
   "cell_type": "code",
   "execution_count": null,
   "metadata": {},
   "outputs": [],
   "source": []
  },
  {
   "cell_type": "code",
   "execution_count": null,
   "metadata": {},
   "outputs": [],
   "source": []
  }
 ],
 "metadata": {
  "kernelspec": {
   "display_name": "Python 3",
   "language": "python",
   "name": "python3"
  },
  "language_info": {
   "codemirror_mode": {
    "name": "ipython",
    "version": 3
   },
   "file_extension": ".py",
   "mimetype": "text/x-python",
   "name": "python",
   "nbconvert_exporter": "python",
   "pygments_lexer": "ipython3",
   "version": "3.6.4"
  }
 },
 "nbformat": 4,
 "nbformat_minor": 2
}
