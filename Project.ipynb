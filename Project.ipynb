{
 "cells": [
  {
   "cell_type": "code",
   "execution_count": 2,
   "metadata": {},
   "outputs": [],
   "source": [
    "import cv2\n",
    "import numpy as np\n",
    "import matplotlib\n",
    "import matplotlib.pyplot as plt \n",
    "%matplotlib inline\n",
    "import argparse\n",
    "import sys, getopt"
   ]
  },
  {
   "cell_type": "code",
   "execution_count": 3,
   "metadata": {},
   "outputs": [],
   "source": [
    "def detect(img, cascade):\n",
    "    rects = cascade.detectMultiScale(img, scaleFactor=1.1, minNeighbors=5, minSize=(30, 30), flags = cv2.CASCADE_SCALE_IMAGE)\n",
    "    if len(rects) == 0:\n",
    "        return []\n",
    "    rects[:,2:] += rects[:,:2]\n",
    "    return rects\n"
   ]
  },
  {
   "cell_type": "code",
   "execution_count": 4,
   "metadata": {},
   "outputs": [],
   "source": [
    "def draw_rects(img, rects, color):\n",
    "    for x1, y1, x2, y2 in rects:\n",
    "        cv2.rectangle(img, (x1, y1), (x2, y2), color, 2)"
   ]
  },
  {
   "cell_type": "code",
   "execution_count": 5,
   "metadata": {},
   "outputs": [],
   "source": [
    "#parser = argparse.ArgumentParser()    \n",
    "#parser.add_argument(\"input\", help=\"the file name\")    \n",
    "#args = parser.parse_args()\n",
    "\n",
    "video_src = 'VIDEO.MPG'#args.input\n",
    "#args = dict(args)\n",
    "#cascade_fn = 'C:\\\\opencv\\\\build\\\\etc\\\\haarcascades\\\\haarcascade_frontalface_default.xml' #args.get('--cascade', \"../../data/haarcascades/haarcascade_frontalface_alt.xml\")\n",
    "#nested_fn  = 'C:\\\\opencv\\\\build\\\\etc\\\\haarcascades\\\\haarcascade_eye.xml' #args.get('--nested-cascade', \"../../data/haarcascades/haarcascade_eye.xml\")\n",
    "\n",
    "cascade = cv2.CascadeClassifier('C:\\\\Users\\\\Home\\\\Anaconda3\\\\pkgs\\\\opencv-3.3.1-py36h20b85fd_1\\\\Library\\\\etc\\\\haarcascades\\\\haarcascade_frontalface_default.xml')\n",
    "nested = cv2.CascadeClassifier('C:\\\\Users\\\\Home\\\\Anaconda3\\\\pkgs\\\\opencv-3.3.1-py36h20b85fd_1\\\\Library\\\\etc\\\\haarcascades\\\\haarcascade_eye.xml')\n",
    "\n"
   ]
  },
  {
   "cell_type": "code",
   "execution_count": 6,
   "metadata": {},
   "outputs": [
    {
     "name": "stdout",
     "output_type": "stream",
     "text": [
      "338 611\n"
     ]
    }
   ],
   "source": [
    "cam = cv2.VideoCapture(video_src)\n",
    "filter_img = cv2.imread('hearts.png')\n",
    "height, width, channels = filter_img.shape\n",
    "\n",
    "print(height, width)"
   ]
  },
  {
   "cell_type": "code",
   "execution_count": 23,
   "metadata": {},
   "outputs": [
    {
     "name": "stderr",
     "output_type": "stream",
     "text": [
      "C:\\Users\\Home\\Anaconda3\\lib\\site-packages\\ipykernel_launcher.py:12: DeprecationWarning: elementwise != comparison failed; this will raise an error in the future.\n",
      "  if sys.path[0] == '':\n"
     ]
    },
    {
     "ename": "error",
     "evalue": "C:\\ci\\opencv_1512688052760\\work\\modules\\imgproc\\src\\color.cpp:11048: error: (-215) scn == 3 || scn == 4 in function cv::cvtColor\n",
     "output_type": "error",
     "traceback": [
      "\u001b[1;31m---------------------------------------------------------------------------\u001b[0m",
      "\u001b[1;31merror\u001b[0m                                     Traceback (most recent call last)",
      "\u001b[1;32m<ipython-input-23-d66916990ce7>\u001b[0m in \u001b[0;36m<module>\u001b[1;34m()\u001b[0m\n\u001b[0;32m      3\u001b[0m     \u001b[0mret\u001b[0m\u001b[1;33m,\u001b[0m \u001b[0mimg\u001b[0m \u001b[1;33m=\u001b[0m \u001b[0mcam\u001b[0m\u001b[1;33m.\u001b[0m\u001b[0mread\u001b[0m\u001b[1;33m(\u001b[0m\u001b[1;33m)\u001b[0m\u001b[1;33m\u001b[0m\u001b[0m\n\u001b[0;32m      4\u001b[0m \u001b[1;33m\u001b[0m\u001b[0m\n\u001b[1;32m----> 5\u001b[1;33m     \u001b[0mgray\u001b[0m \u001b[1;33m=\u001b[0m \u001b[0mcv2\u001b[0m\u001b[1;33m.\u001b[0m\u001b[0mcvtColor\u001b[0m\u001b[1;33m(\u001b[0m\u001b[0mimg\u001b[0m\u001b[1;33m,\u001b[0m \u001b[0mcv2\u001b[0m\u001b[1;33m.\u001b[0m\u001b[0mCOLOR_BGR2GRAY\u001b[0m\u001b[1;33m)\u001b[0m\u001b[1;33m\u001b[0m\u001b[0m\n\u001b[0m\u001b[0;32m      6\u001b[0m     \u001b[0mgray\u001b[0m \u001b[1;33m=\u001b[0m \u001b[0mcv2\u001b[0m\u001b[1;33m.\u001b[0m\u001b[0mequalizeHist\u001b[0m\u001b[1;33m(\u001b[0m\u001b[0mgray\u001b[0m\u001b[1;33m)\u001b[0m\u001b[1;33m\u001b[0m\u001b[0m\n\u001b[0;32m      7\u001b[0m \u001b[1;33m\u001b[0m\u001b[0m\n",
      "\u001b[1;31merror\u001b[0m: C:\\ci\\opencv_1512688052760\\work\\modules\\imgproc\\src\\color.cpp:11048: error: (-215) scn == 3 || scn == 4 in function cv::cvtColor\n"
     ]
    }
   ],
   "source": [
    "\n",
    "while True:\n",
    "    ret, img = cam.read()\n",
    "    \n",
    "    gray = cv2.cvtColor(img, cv2.COLOR_BGR2GRAY)\n",
    "    gray = cv2.equalizeHist(gray)\n",
    "\n",
    "    #t = clock()\n",
    "    rects = detect(gray, cascade)\n",
    "    vis = img.copy()\n",
    "    \n",
    "    if(rects != []):\n",
    "        #print(rects[0:1])\n",
    "        x1,y1,x2,y2 = rects[0]\n",
    "        new_width = int(x2 - x1)\n",
    "        new_height = int((y2-y1)/4)\n",
    "       \n",
    "\n",
    "        filter_scaled = cv2.resize(filter_img,(new_width, new_height))\n",
    "      \n",
    "        \n",
    "        #print(new_width,new_height)\n",
    "        #print( x1,y1,x2,y2)\n",
    "        \n",
    "        xt = x1\n",
    "        yt = y1\n",
    "        for w in range(new_width-1):\n",
    "            \n",
    "            for h in range(new_height-1):\n",
    "                if(np.average(filter_scaled[h,w]) > 0):\n",
    "                    vis[yt,xt] = filter_scaled[h,w]\n",
    "                yt += 1\n",
    "            yt = y1\n",
    "            xt += 1\n",
    "    \n",
    "    #draw_rects(vis, rects, (0, 255, 0))\n",
    "    #for x1, y1, x2, y2 in rects:\n",
    "    #    roi = gray[y1:y2, x1:x2]\n",
    "    #    vis_roi = vis[y1:y2, x1:x2]\n",
    "    #    subrects = detect(roi.copy(), nested)\n",
    "    #    draw_rects(vis_roi, subrects, (255, 0, 0))\n",
    "    #dt = clock() - t\n",
    "\n",
    "    #draw_str(vis, (20, 20), 'time: %.1f ms' % (dt*1000))\n",
    "    cv2.imshow('facedetect', vis)\n",
    "\n",
    "    if 0xFF & cv2.waitKey(5) == 27:\n",
    "        break\n",
    "cv2.destroyAllWindows()"
   ]
  },
  {
   "cell_type": "code",
   "execution_count": null,
   "metadata": {},
   "outputs": [],
   "source": []
  },
  {
   "cell_type": "code",
   "execution_count": null,
   "metadata": {},
   "outputs": [],
   "source": []
  },
  {
   "cell_type": "code",
   "execution_count": null,
   "metadata": {},
   "outputs": [],
   "source": []
  },
  {
   "cell_type": "code",
   "execution_count": null,
   "metadata": {},
   "outputs": [],
   "source": []
  },
  {
   "cell_type": "code",
   "execution_count": null,
   "metadata": {},
   "outputs": [],
   "source": []
  },
  {
   "cell_type": "code",
   "execution_count": null,
   "metadata": {},
   "outputs": [],
   "source": []
  },
  {
   "cell_type": "code",
   "execution_count": null,
   "metadata": {},
   "outputs": [],
   "source": []
  }
 ],
 "metadata": {
  "kernelspec": {
   "display_name": "Python 3",
   "language": "python",
   "name": "python3"
  },
  "language_info": {
   "codemirror_mode": {
    "name": "ipython",
    "version": 3
   },
   "file_extension": ".py",
   "mimetype": "text/x-python",
   "name": "python",
   "nbconvert_exporter": "python",
   "pygments_lexer": "ipython3",
   "version": "3.6.4"
  }
 },
 "nbformat": 4,
 "nbformat_minor": 2
}
